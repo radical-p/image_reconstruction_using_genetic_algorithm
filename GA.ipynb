{
  "nbformat": 4,
  "nbformat_minor": 0,
  "metadata": {
    "colab": {
      "provenance": [],
      "gpuType": "T4"
    },
    "kernelspec": {
      "name": "python3",
      "display_name": "Python 3"
    },
    "language_info": {
      "name": "python"
    },
    "accelerator": "GPU"
  },
  "cells": [
    {
      "cell_type": "markdown",
      "source": [
        "# Pouya Behzadifar 9919803"
      ],
      "metadata": {
        "id": "HE3mXe8biTSt"
      }
    },
    {
      "cell_type": "code",
      "source": [
        "import numpy as np\n",
        "import random\n",
        "import PIL.Image as Image"
      ],
      "metadata": {
        "id": "DMJyHis4eQBZ"
      },
      "execution_count": 18,
      "outputs": []
    },
    {
      "cell_type": "markdown",
      "source": [
        "defining hyperparameter"
      ],
      "metadata": {
        "id": "GpIIET2wiHDH"
      }
    },
    {
      "cell_type": "code",
      "source": [
        "num_points = 80\n",
        "population_size = 150\n",
        "mutation_rate = 0.01\n",
        "num_generations = 10000\n",
        "blend_factor = 0.5\n",
        "\n",
        "#read the image\n",
        "input_image = Image.open('/content/drive/MyDrive/Pixel.jpeg')"
      ],
      "metadata": {
        "id": "o2LiqAoJeQak"
      },
      "execution_count": 40,
      "outputs": []
    },
    {
      "cell_type": "markdown",
      "source": [
        "This function generates the initial population of individuals. It creates a list called population and iterates population_size times to create each individual. For each individual, it creates a new PIL.Image object and randomly places circles (ellipses) with random positions, sizes, and colors on the image. The generated population is returned."
      ],
      "metadata": {
        "id": "1lOMHjwviJdv"
      }
    },
    {
      "cell_type": "code",
      "source": [
        "def generate_population():\n",
        "    population = []\n",
        "    image_width, image_height = input_image.size\n",
        "\n",
        "    for _ in range(population_size):\n",
        "        image = Image.new('RGB', (image_width, image_height))\n",
        "\n",
        "        for _ in range(num_points):\n",
        "            x = random.randint(0, image_height - 1)\n",
        "            y = random.randint(0, image_width - 1)\n",
        "            color = input_image.getpixel((y, x))\n",
        "\n",
        "            size = random.randint(10, 30)\n",
        "            draw = ImageDraw.Draw(image)\n",
        "            draw.ellipse([(y - size, x - size), (y + size, x + size)], fill=color)\n",
        "\n",
        "        population.append(image)\n",
        "\n",
        "    return population"
      ],
      "metadata": {
        "id": "G4cM2MvneQg8"
      },
      "execution_count": 21,
      "outputs": []
    },
    {
      "cell_type": "markdown",
      "source": [
        "This function calculates the fitness of an individual image. It takes an image as input, converts it to a numpy array, and computes the mean squared error (MSE) between the RGB pixel values of the individual's image and the input image. The lower the MSE, the better the fitness."
      ],
      "metadata": {
        "id": "qCUWBRXdixx7"
      }
    },
    {
      "cell_type": "code",
      "source": [
        "# Fitness function\n",
        "def fitness(image):\n",
        "    diff = np.array(image) - np.array(input_image)\n",
        "    mse = np.mean(np.square(diff))\n",
        "    return mse"
      ],
      "metadata": {
        "id": "OrzOcbiveQmr"
      },
      "execution_count": 22,
      "outputs": []
    },
    {
      "cell_type": "markdown",
      "source": [
        "This function performs crossover between two parent images. It takes two parent images as input and uses the Image.blend() function from PIL to blend the two images using the specified blend factor (blend_factor). The resulting image, representing the child, is returned."
      ],
      "metadata": {
        "id": "3R980z21kiWI"
      }
    },
    {
      "cell_type": "code",
      "source": [
        "# Crossover function\n",
        "def crossover(parent1, parent2):\n",
        "    child = Image.blend(parent1, parent2, blend_factor)\n",
        "    return child"
      ],
      "metadata": {
        "id": "OcE9oXE2eQpy"
      },
      "execution_count": 23,
      "outputs": []
    },
    {
      "cell_type": "markdown",
      "source": [
        "This function performs mutation on an image. It takes an image as input, creates a copy of it, and randomly selects pixels to mutate. For each selected pixel, it changes the color of the corresponding circle by selecting a new color from the input image. The mutated image is returned."
      ],
      "metadata": {
        "id": "xF-ktqkxlmb6"
      }
    },
    {
      "cell_type": "code",
      "source": [
        "# Mutation function\n",
        "def mutate(image):\n",
        "    mutated_image = image.copy()\n",
        "    width, height = image.size\n",
        "    pixels = mutated_image.load()\n",
        "\n",
        "    for _ in range(int(width * height * mutation_rate)):\n",
        "        x = random.randint(0, height - 1)\n",
        "        y = random.randint(0, width - 1)\n",
        "        size = random.randint(10, 30)\n",
        "        color = input_image.getpixel((y, x))[::-1]  # Reverse the order of color values\n",
        "\n",
        "        draw = ImageDraw.Draw(mutated_image)\n",
        "        draw.ellipse([(y - size, x - size), (y + size, x + size)], fill=color)\n",
        "\n",
        "    return mutated_image"
      ],
      "metadata": {
        "id": "Ibl7z48qeQ5B"
      },
      "execution_count": 24,
      "outputs": []
    },
    {
      "cell_type": "code",
      "source": [
        "# Function to generate the next generation\n",
        "def generate_next_generation(population):\n",
        "    population.sort(key=lambda x: fitness(x))\n",
        "    selected_parents = population[:int(population_size / 2)]\n",
        "    next_generation = []\n",
        "\n",
        "    for _ in range(population_size):\n",
        "        parent1 = random.choice(selected_parents)\n",
        "        parent2 = random.choice(selected_parents)\n",
        "        child = crossover(parent1, parent2)\n",
        "        child = mutate(child)\n",
        "        next_generation.append(child)\n",
        "\n",
        "    return next_generation"
      ],
      "metadata": {
        "id": "yjTyyTKeeQ9h"
      },
      "execution_count": 25,
      "outputs": []
    },
    {
      "cell_type": "code",
      "source": [
        "# Main genetic algorithm\n",
        "population = generate_population()\n",
        "\n",
        "for generation in range(num_generations):\n",
        "    population = generate_next_generation(population)\n",
        "\n",
        "    best_image = min(population, key=fitness)\n",
        "    best_fitness = fitness(best_image)\n",
        "    #print(f\"generation = {generation}\")\n",
        "\n",
        "# Save the best image\n",
        "best_image.save('/content/drive/MyDrive/last_generation_output_image.jpg')"
      ],
      "metadata": {
        "id": "SqDDRIOaemPD"
      },
      "execution_count": 37,
      "outputs": []
    },
    {
      "cell_type": "code",
      "source": [],
      "metadata": {
        "id": "bbA1bkHsemum"
      },
      "execution_count": null,
      "outputs": []
    }
  ]
}